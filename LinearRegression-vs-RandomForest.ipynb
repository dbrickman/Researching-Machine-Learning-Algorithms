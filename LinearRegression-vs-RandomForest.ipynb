{
 "cells": [
  {
   "cell_type": "code",
   "execution_count": 53,
   "metadata": {},
   "outputs": [],
   "source": [
    "import pandas as pd\n",
    "import seaborn as sns\n",
    "import matplotlib.pyplot as plt\n",
    "from sklearn.model_selection import train_test_split\n",
    "from sklearn.linear_model import LinearRegression\n",
    "import numpy as np\n",
    "from sklearn.impute import SimpleImputer\n"
   ]
  },
  {
   "cell_type": "code",
   "execution_count": 54,
   "metadata": {},
   "outputs": [
    {
     "name": "stdout",
     "output_type": "stream",
     "text": [
      "<class 'pandas.core.frame.DataFrame'>\n",
      "RangeIndex: 93 entries, 0 to 92\n",
      "Data columns (total 28 columns):\n",
      " #   Column              Non-Null Count  Dtype  \n",
      "---  ------              --------------  -----  \n",
      " 0   Unnamed: 0          93 non-null     int64  \n",
      " 1   Manufacturer        93 non-null     object \n",
      " 2   Model               93 non-null     object \n",
      " 3   Type                93 non-null     object \n",
      " 4   Min.Price           93 non-null     float64\n",
      " 5   Price               93 non-null     float64\n",
      " 6   Max.Price           93 non-null     float64\n",
      " 7   MPG.city            93 non-null     int64  \n",
      " 8   MPG.highway         93 non-null     int64  \n",
      " 9   AirBags             93 non-null     object \n",
      " 10  DriveTrain          93 non-null     object \n",
      " 11  Cylinders           93 non-null     object \n",
      " 12  EngineSize          93 non-null     float64\n",
      " 13  Horsepower          93 non-null     int64  \n",
      " 14  RPM                 93 non-null     int64  \n",
      " 15  Rev.per.mile        93 non-null     int64  \n",
      " 16  Man.trans.avail     93 non-null     object \n",
      " 17  Fuel.tank.capacity  93 non-null     float64\n",
      " 18  Passengers          93 non-null     int64  \n",
      " 19  Length              93 non-null     int64  \n",
      " 20  Wheelbase           93 non-null     int64  \n",
      " 21  Width               93 non-null     int64  \n",
      " 22  Turn.circle         93 non-null     int64  \n",
      " 23  Rear.seat.room      91 non-null     float64\n",
      " 24  Luggage.room        82 non-null     float64\n",
      " 25  Weight              93 non-null     int64  \n",
      " 26  Origin              93 non-null     object \n",
      " 27  Make                93 non-null     object \n",
      "dtypes: float64(7), int64(12), object(9)\n",
      "memory usage: 20.5+ KB\n"
     ]
    }
   ],
   "source": [
    "### 1. Import the raw data ###\n",
    "cars=pd.read_csv('Cars93.csv')\n",
    "cars.info()"
   ]
  },
  {
   "cell_type": "code",
   "execution_count": 55,
   "metadata": {},
   "outputs": [
    {
     "name": "stdout",
     "output_type": "stream",
     "text": [
      "Nonoutlier range in Min.Price: (-9.11, 43.36)\n",
      "Outlier List:\n",
      "[43.8 45.4]\n",
      "\n",
      "Nonoutlier range in Price: (-9.47, 48.49)\n",
      "Outlier List:\n",
      "[61.9]\n",
      "\n",
      "Nonoutlier range in Max.Price: (-11.19, 54.99)\n",
      "Outlier List:\n",
      "[80.]\n",
      "\n",
      "Nonoutlier range in MPG.city: (5.51, 39.23)\n",
      "Outlier List:\n",
      "[42 46]\n",
      "\n",
      "Nonoutlier range in MPG.highway: (13.09, 45.08)\n",
      "Outlier List:\n",
      "[46 50]\n",
      "\n",
      "Nonoutlier range in Fuel.tank.capacity: (6.83, 26.5)\n",
      "Outlier List:\n",
      "[27.]\n",
      "\n",
      "Nonoutlier range in Rear.seat.room: (12.17, 42.3)\n",
      "Outlier List:\n",
      "[0. 0.]\n",
      "\n",
      "<class 'pandas.core.frame.DataFrame'>\n",
      "RangeIndex: 93 entries, 0 to 92\n",
      "Data columns (total 25 columns):\n",
      " #   Column              Non-Null Count  Dtype  \n",
      "---  ------              --------------  -----  \n",
      " 0   Manufacturer        93 non-null     object \n",
      " 1   Type                93 non-null     object \n",
      " 2   Min.Price           93 non-null     float64\n",
      " 3   Price               93 non-null     float64\n",
      " 4   Max.Price           93 non-null     float64\n",
      " 5   MPG.city            93 non-null     int64  \n",
      " 6   MPG.highway         93 non-null     int64  \n",
      " 7   AirBags             93 non-null     object \n",
      " 8   DriveTrain          93 non-null     object \n",
      " 9   Cylinders           93 non-null     object \n",
      " 10  EngineSize          93 non-null     float64\n",
      " 11  Horsepower          93 non-null     int64  \n",
      " 12  RPM                 93 non-null     int64  \n",
      " 13  Rev.per.mile        93 non-null     int64  \n",
      " 14  Man.trans.avail     93 non-null     object \n",
      " 15  Fuel.tank.capacity  93 non-null     float64\n",
      " 16  Passengers          93 non-null     int64  \n",
      " 17  Length              93 non-null     int64  \n",
      " 18  Wheelbase           93 non-null     int64  \n",
      " 19  Width               93 non-null     int64  \n",
      " 20  Turn.circle         93 non-null     int64  \n",
      " 21  Rear.seat.room      93 non-null     float64\n",
      " 22  Luggage.room        93 non-null     float64\n",
      " 23  Weight              93 non-null     int64  \n",
      " 24  Origin              93 non-null     object \n",
      "dtypes: float64(7), int64(11), object(7)\n",
      "memory usage: 18.3+ KB\n"
     ]
    },
    {
     "name": "stderr",
     "output_type": "stream",
     "text": [
      "C:\\Users\\jbartell\\AppData\\Local\\Temp/ipykernel_34240/1153486407.py:7: SettingWithCopyWarning: \n",
      "A value is trying to be set on a copy of a slice from a DataFrame.\n",
      "Try using .loc[row_indexer,col_indexer] = value instead\n",
      "\n",
      "See the caveats in the documentation: https://pandas.pydata.org/pandas-docs/stable/user_guide/indexing.html#returning-a-view-versus-a-copy\n",
      "  cars[cars['Model']=='Corvette']['Luggage.room']=12.6\n",
      "C:\\Users\\jbartell\\AppData\\Local\\Temp/ipykernel_34240/1153486407.py:8: SettingWithCopyWarning: \n",
      "A value is trying to be set on a copy of a slice from a DataFrame.\n",
      "Try using .loc[row_indexer,col_indexer] = value instead\n",
      "\n",
      "See the caveats in the documentation: https://pandas.pydata.org/pandas-docs/stable/user_guide/indexing.html#returning-a-view-versus-a-copy\n",
      "  cars[cars['Model']=='RX-7']['Luggage.room']=17\n"
     ]
    }
   ],
   "source": [
    "### 2. Clean the data and remove missing values ###\n",
    "# Remove missing values  - I removed any row that has any NaN value\n",
    "# Try out imputing missing values rather than removing them?\n",
    "#cars.dropna(axis=0,inplace=True)\n",
    "\n",
    "# Update Luggage.room Corvet (12.6) and the RX-7 (17)\n",
    "cars[cars['Model']=='Corvette']['Luggage.room']=12.6\n",
    "cars[cars['Model']=='RX-7']['Luggage.room']=17\n",
    "imp_avg=SimpleImputer(missing_values=np.nan, strategy='mean')\n",
    "imp_zero=SimpleImputer(missing_values=np.nan, fill_value=0,strategy='constant')\n",
    "imp_cyl=SimpleImputer(missing_values='rotor', fill_value=0, strategy='constant')\n",
    "cars[['Luggage.room']]=imp_avg.fit_transform(cars[['Luggage.room']])\n",
    "cars[['Cylinders']]=imp_cyl.fit_transform(cars[['Cylinders']])\n",
    "cars[['Rear.seat.room']]=imp_zero.fit_transform(cars[['Rear.seat.room']])\n",
    "\n",
    "# Drop any column that is not categorical or numeric \n",
    "# (all model and make are categroical and are unique for each row, so they would give no useful info)\n",
    "cars.drop(columns=['Model','Make','Unnamed: 0'],inplace=True,errors='ignore')\n",
    "\n",
    "# Manufacturer - Chrysler was misspelled (Chrylser)\n",
    "cars.replace('Chrylser','Chrysler',inplace=True)\n",
    "\n",
    "# Outliers - None that need to be worried about\n",
    "cat_cols=list(cars.select_dtypes('object').columns)\n",
    "outliers={} #A dictionary to easily see which columns have outliers and what values the outliers are\n",
    "for column in cars.columns:\n",
    "    if column in cat_cols:\n",
    "        continue\n",
    "    else:\n",
    "        minflag=cars[column].mean()-3*cars[column].std()\n",
    "        maxflag=cars[column].mean()+3*cars[column].std()\n",
    "        if cars[column].min()<minflag or cars[column].max()>maxflag:            \n",
    "            outliers[column]=cars[(cars[column]>maxflag)|(cars[column]<minflag)][column].sort_values().values\n",
    "            print(f\"Nonoutlier range in {column}: ({round(minflag,2)}, {round(maxflag,2)})\")\n",
    "            print('Outlier List:')\n",
    "            print(outliers[column])\n",
    "            print('')\n",
    "        else:\n",
    "            continue\n",
    "\n",
    "# Consider removing Manufacturer?\n",
    "cars.info()"
   ]
  },
  {
   "cell_type": "code",
   "execution_count": 56,
   "metadata": {},
   "outputs": [],
   "source": [
    "### 3. Generate dummy variables for the categorical features ###\n",
    "cars = pd.get_dummies(cars, drop_first=True)"
   ]
  },
  {
   "cell_type": "code",
   "execution_count": 57,
   "metadata": {},
   "outputs": [],
   "source": [
    "### 4. Create a training set that's 75% of your dat set and a complementary test set with the remaining 25%. Specify random_state = 0 ###\n",
    "X = cars.drop('MPG.highway',axis=1)\n",
    "y = cars['MPG.highway']\n",
    "\n",
    "X_train, X_test, y_train, y_test = train_test_split(X, y, test_size=0.25, random_state=0)"
   ]
  },
  {
   "cell_type": "code",
   "execution_count": 58,
   "metadata": {},
   "outputs": [],
   "source": [
    "### 5. Train the model using the LinearRegression class. Leave all parameters at their default values ###\n",
    "reg = LinearRegression().fit(X_train,y_train)"
   ]
  },
  {
   "cell_type": "code",
   "execution_count": 59,
   "metadata": {},
   "outputs": [
    {
     "data": {
      "image/png": "[encoded data removed]",
      "text/plain": [
       "<Figure size 432x288 with 1 Axes>"
      ]
     },
     "metadata": {
      "needs_background": "light"
     },
     "output_type": "display_data"
    },
    {
     "data": {
      "image/png": "[encoded data removed]",
      "text/plain": [
       "<Figure size 432x288 with 1 Axes>"
      ]
     },
     "metadata": {
      "needs_background": "light"
     },
     "output_type": "display_data"
    }
   ],
   "source": [
    "### 6. Use your model to generate predictions on the test set and create two scatter plots ###\n",
    "\n",
    "# Scatterplot with predicted values against actual values\n",
    "fig=plt.figure()\n",
    "ax=plt.axes()\n",
    "\n",
    "x=np.linspace(0,max(y_test),1000)\n",
    "ax.plot(x,x,color='black',linestyle='dotted')\n",
    "\n",
    "y_predict=reg.predict(X_test)\n",
    "plt.scatter(x=y_test,y=y_predict,c='black')\n",
    "plt.xlabel('Actual Value')\n",
    "plt.ylabel('Predicted Value')\n",
    "plt.title('Score Actual vs. Predicted')\n",
    "\n",
    "# Scatterplot with predicted values against actual values\n",
    "fig2=plt.figure()\n",
    "ax2=plt.axes()\n",
    "\n",
    "ax2.plot(x,x*0,color='black',linestyle='dotted')\n",
    "\n",
    "y_residual=y_test-y_predict\n",
    "plt.scatter(x=y_test,y=y_residual,c='black')\n",
    "plt.xlabel('Actual Value')\n",
    "plt.ylabel('Redidual (Actual-Predicted Value)')\n",
    "plt.title(' Residual Plot')\n",
    "plt.show()"
   ]
  },
  {
   "cell_type": "code",
   "execution_count": 60,
   "metadata": {},
   "outputs": [
    {
     "name": "stdout",
     "output_type": "stream",
     "text": [
      "MPG.highway = 45.147 + 6.599 * Min.Price + -13.953 * Price + 6.975 * Max.Price + 1.067 * MPG.city + 1.556 * EngineSize + -0.065 * Horsepower + 0.003 * RPM + 0.001 * Rev.per.mile + -0.163 * Fuel.tank.capacity + 1.654 * Passengers + 0.047 * Length + -0.505 * Wheelbase + -0.863 * Width + 0.304 * Turn.circle + -0.709 * Rear.seat.room + 0.998 * Luggage.room + 0.014 * Weight + -5.503 * Manufacturer_Audi + -3.720 * Manufacturer_BMW + 1.231 * Manufacturer_Buick + 16.795 * Manufacturer_Cadillac + -1.596 * Manufacturer_Chevrolet + -4.039 * Manufacturer_Chrysler + -3.845 * Manufacturer_Dodge + -3.737 * Manufacturer_Eagle + -2.442 * Manufacturer_Ford + 1.718 * Manufacturer_Geo + 2.777 * Manufacturer_Honda + -2.527 * Manufacturer_Hyundai + 10.792 * Manufacturer_Infiniti + -3.264 * Manufacturer_Lexus + -0.169 * Manufacturer_Lincoln + 0.154 * Manufacturer_Mazda + 2.305 * Manufacturer_Mercedes-Benz + -2.293 * Manufacturer_Mercury + -5.182 * Manufacturer_Mitsubishi + -5.722 * Manufacturer_Nissan + -0.123 * Manufacturer_Oldsmobile + 4.449 * Manufacturer_Plymouth + -4.345 * Manufacturer_Pontiac + 0.000 * Manufacturer_Saab + -0.000 * Manufacturer_Saturn + -5.639 * Manufacturer_Subaru + -3.092 * Manufacturer_Suzuki + -1.531 * Manufacturer_Toyota + 0.385 * Manufacturer_Volkswagen + -4.816 * Manufacturer_Volvo + 5.359 * Type_Large + 0.119 * Type_Midsize + -2.503 * Type_Small + -3.494 * Type_Sporty + -3.019 * Type_Van + -3.480 * AirBags_Driver only + -2.054 * AirBags_None + 0.904 * DriveTrain_Front + 5.674 * DriveTrain_Rear + 0.372 * Cylinders_4 + -4.074 * Cylinders_5 + 2.482 * Cylinders_6 + -5.494 * Cylinders_8 + 0.000 * Cylinders_rotary + 5.368 * Man.trans.avail_Yes + 0.115 * Origin_non-USA\n",
      "\n",
      "Score/Coefficient of Determination:  -0.4706007499580289\n"
     ]
    }
   ],
   "source": [
    "### 7. Print out the actual model in equation form ###\n",
    "\n",
    "equation=f\"MPG.highway = {reg.intercept_:.3f}\"\n",
    "columns=\"\"\n",
    "for index, col in enumerate(X_train.columns):\n",
    "    equation+=f\" + {reg.coef_[index]:.3f} * {col}\"\n",
    "print(equation)\n",
    "\n",
    "print('\\nScore/Coefficient of Determination: ',reg.score(X_test,y_test))"
   ]
  },
  {
   "cell_type": "code",
   "execution_count": 61,
   "metadata": {},
   "outputs": [
    {
     "name": "stdout",
     "output_type": "stream",
     "text": [
      "The MSE for forest was 6.06 and the MSE for linear regression was 22.67\n",
      "63\n"
     ]
    }
   ],
   "source": [
    "from sklearn.ensemble import RandomForestRegressor\n",
    "# Optimization\n",
    "    # n_estimators (1,1000)\n",
    "    # max_featrures (1,62)\n",
    "    # mini_sample_leaf ()\n",
    "    # oof_score=True\n",
    "# n_estimators=[1,10,100,1000]\n",
    "# error=[]\n",
    "\n",
    "regressor = RandomForestRegressor(n_estimators = 100, random_state = 0,oob_score=True)\n",
    "regressor.fit(X_train, y_train)\n",
    "y_predict_forest = regressor.predict(X_test)\n",
    "\n",
    "MSE_forest=0\n",
    "MSE_lin=0\n",
    "for i in range(len(y_predict_forest)):\n",
    "    MSE_forest += (list(y_test)[i]-y_predict_forest[i])**2/len(y_test)\n",
    "    MSE_lin += (list(y_test)[i]-y_predict[i])**2/len(y_test)\n",
    "print(f\"The MSE for forest was {MSE_forest:.2f} and the MSE for linear regression was {MSE_lin:.2f}\")\n",
    "print(regressor.n_features_in_)\n",
    "\n"
   ]
  },
  {
   "cell_type": "code",
   "execution_count": 62,
   "metadata": {},
   "outputs": [
    {
     "data": {
      "image/png": "[encoded data removed]",
      "text/plain": [
       "<Figure size 432x288 with 1 Axes>"
      ]
     },
     "metadata": {
      "needs_background": "light"
     },
     "output_type": "display_data"
    },
    {
     "data": {
      "image/png": "[encoded data removed]",
      "text/plain": [
       "<Figure size 432x288 with 1 Axes>"
      ]
     },
     "metadata": {
      "needs_background": "light"
     },
     "output_type": "display_data"
    }
   ],
   "source": [
    "### 6. Use your model to generate predictions on the test set and create two scatter plots ###\n",
    "\n",
    "# Scatterplot with predicted values against actual values\n",
    "fig=plt.figure()\n",
    "ax=plt.axes()\n",
    "\n",
    "x=np.linspace(0,max(y_test),1000)\n",
    "ax.plot(x,x,color='black',linestyle='dotted')\n",
    "\n",
    "plt.scatter(x=y_test,y=y_predict,c='black',label='Multiple Linear Regression')\n",
    "plt.scatter(x=y_test,y=y_predict_forest,c='blue', label='Random Forest Regressor')\n",
    "plt.legend()\n",
    "plt.xlabel('Actual Value')\n",
    "plt.ylabel('Predicted Value')\n",
    "plt.title('Score Actual vs. Predicted')\n",
    "\n",
    "# Scatterplot with predicted values against actual values\n",
    "fig2=plt.figure()\n",
    "ax2=plt.axes()\n",
    "\n",
    "ax2.plot(x,x*0,color='black',linestyle='dotted')\n",
    "\n",
    "y_residual=y_test-y_predict\n",
    "y_residual_forest=y_test-y_predict_forest\n",
    "plt.scatter(x=y_test,y=y_residual,c='black',label='Multiple Linear Regression')\n",
    "plt.scatter(x=y_test,y=y_residual_forest,c='blue',label='Random Forest Regressor')\n",
    "plt.legend()\n",
    "plt.xlabel('Actual Value')\n",
    "plt.ylabel('Redidual (Actual-Predicted Value)')\n",
    "plt.title(' Residual Plot')\n",
    "plt.show()"
   ]
  },
  {
   "cell_type": "code",
   "execution_count": null,
   "metadata": {},
   "outputs": [],
   "source": []
  }
 ],
 "metadata": {
  "interpreter": {
   "hash": "fb7be012fec41f1bfe6ca933958bc75a4e86ed8e44551a4face8c03be643bc3b"
  },
  "kernelspec": {
   "display_name": "Python 3.9.7 64-bit ('base': conda)",
   "language": "python",
   "name": "python3"
  },
  "language_info": {
   "codemirror_mode": {
    "name": "ipython",
    "version": 3
   },
   "file_extension": ".py",
   "mimetype": "text/x-python",
   "name": "python",
   "nbconvert_exporter": "python",
   "pygments_lexer": "ipython3",
   "version": "3.9.7"
  },
  "orig_nbformat": 4
 },
 "nbformat": 4,
 "nbformat_minor": 2
}
